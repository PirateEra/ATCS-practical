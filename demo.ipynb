{
 "cells": [
  {
   "cell_type": "markdown",
   "id": "150143e4",
   "metadata": {},
   "source": [
    "# This is a demo on how to use checkpoints of trained models"
   ]
  },
  {
   "cell_type": "markdown",
   "id": "83a66e55",
   "metadata": {},
   "source": [
    "# Load a checkpoint\n",
    "##### Model choices are uni-lstm, bi-lstm, bi-max-lstm, mean"
   ]
  },
  {
   "cell_type": "code",
   "execution_count": 1,
   "id": "e773413c",
   "metadata": {},
   "outputs": [
    {
     "name": "stderr",
     "output_type": "stream",
     "text": [
      "/home/david/anaconda3/envs/ATCS/lib/python3.13/site-packages/tqdm/auto.py:21: TqdmWarning: IProgress not found. Please update jupyter and ipywidgets. See https://ipywidgets.readthedocs.io/en/stable/user_install.html\n",
      "  from .autonotebook import tqdm as notebook_tqdm\n"
     ]
    }
   ],
   "source": [
    "import argparse\n",
    "from models import SNLIModel\n",
    "from train import parse_args\n",
    "import torch"
   ]
  },
  {
   "cell_type": "code",
   "execution_count": 2,
   "id": "b67a7324",
   "metadata": {},
   "outputs": [],
   "source": [
    "checkpoint_path = \"modelsaves/bi_max_lstm_model.pth\"\n",
    "modeltype = 'bi-max-lstm' # Make sure this matches the checkpoint you are loading in!\n",
    "# choices are uni-lstm, bi-lstm, bi-max-lstm, mean"
   ]
  },
  {
   "cell_type": "code",
   "execution_count": 3,
   "id": "1cabe843",
   "metadata": {},
   "outputs": [],
   "source": [
    "params = parse_args() # The default parameters (do not worry, this is just for initialization, it wont matter since we are evaluating only not training)\n",
    "params.checkpoint_path = checkpoint_path\n",
    "params.encoder_model = modeltype"
   ]
  },
  {
   "cell_type": "code",
   "execution_count": 4,
   "id": "52a33681",
   "metadata": {},
   "outputs": [
    {
     "name": "stdout",
     "output_type": "stream",
     "text": [
      "dict_keys(['model_state_dict', 'optimizer_state_dict', 'epoch', 'dev_accuracy'])\n",
      "Model: bi-max-lstm\n",
      "Epoch: 5\n",
      "Dev accuracy; 0.8474903702735901\n"
     ]
    }
   ],
   "source": [
    "checkpoint_info = torch.load(checkpoint_path)\n",
    "print(checkpoint_info.keys())\n",
    "print(f\"Model: {modeltype}\")\n",
    "print(f\"Epoch: {checkpoint_info['epoch']}\")\n",
    "print(f\"Dev accuracy; {checkpoint_info['dev_accuracy'].item()}\")"
   ]
  },
  {
   "cell_type": "code",
   "execution_count": 5,
   "id": "b230d664",
   "metadata": {},
   "outputs": [
    {
     "name": "stdout",
     "output_type": "stream",
     "text": [
      "Setting up all imports and downloads\n"
     ]
    },
    {
     "name": "stderr",
     "output_type": "stream",
     "text": [
      "[nltk_data] Downloading package punkt to /home/david/nltk_data...\n",
      "[nltk_data]   Package punkt is already up-to-date!\n",
      "[nltk_data] Downloading package punkt_tab to /home/david/nltk_data...\n",
      "[nltk_data]   Package punkt_tab is already up-to-date!\n"
     ]
    },
    {
     "name": "stdout",
     "output_type": "stream",
     "text": [
      "Preprocessing the data\n",
      "Setting up the classifier (and the encoder within)\n",
      "Setting up the optimizer and loss function\n",
      "Checkpoint loaded from modelsaves/bi_max_lstm_model.pth\n"
     ]
    }
   ],
   "source": [
    "checkpoint_model = SNLIModel(params)"
   ]
  },
  {
   "cell_type": "markdown",
   "id": "dce02933",
   "metadata": {},
   "source": [
    "# Example on how to predict using the checkpoint model"
   ]
  },
  {
   "cell_type": "code",
   "execution_count": 6,
   "id": "e1832c7d",
   "metadata": {},
   "outputs": [
    {
     "data": {
      "text/plain": [
       "(tensor([1], device='cuda:0'), ['neutral'])"
      ]
     },
     "execution_count": 6,
     "metadata": {},
     "output_type": "execute_result"
    }
   ],
   "source": [
    "premise = \"Two men sitting in the sun\"\n",
    "hypothesis = \"Nobody is sitting in the shade\"\n",
    "checkpoint_model.predict([premise], [hypothesis])"
   ]
  },
  {
   "cell_type": "code",
   "execution_count": 7,
   "id": "8c6f093b",
   "metadata": {},
   "outputs": [
    {
     "data": {
      "text/plain": [
       "(tensor([0], device='cuda:0'), ['entailment'])"
      ]
     },
     "execution_count": 7,
     "metadata": {},
     "output_type": "execute_result"
    }
   ],
   "source": [
    "premise = \"A man is walking a dog\"\n",
    "hypothesis = \"No cat is outside\"\n",
    "checkpoint_model.predict([premise], [hypothesis])"
   ]
  },
  {
   "cell_type": "markdown",
   "id": "ebc36363",
   "metadata": {},
   "source": [
    "# Example on evaluating a dataset and obtaining an accuracy"
   ]
  },
  {
   "cell_type": "code",
   "execution_count": 8,
   "id": "00c0bb55",
   "metadata": {},
   "outputs": [],
   "source": [
    "dev_accuracy = checkpoint_model.evaluate_accuracy(checkpoint_model.dev_data).item()\n",
    "test_accuracy = checkpoint_model.evaluate_accuracy(checkpoint_model.test_data).item()"
   ]
  },
  {
   "cell_type": "code",
   "execution_count": 9,
   "id": "18279cb7",
   "metadata": {},
   "outputs": [
    {
     "name": "stdout",
     "output_type": "stream",
     "text": [
      "The dev accuracy is 0.84749 and the test accuracy is 0.85006\n"
     ]
    }
   ],
   "source": [
    "print(f\"The dev accuracy is {round(dev_accuracy, 5)} and the test accuracy is {round(test_accuracy, 5)}\")"
   ]
  },
  {
   "cell_type": "markdown",
   "id": "44175686",
   "metadata": {},
   "source": [
    "# Error Analysis\n",
    "At the above code, simply change the model checkpoint and rerun the notebook to see how each model performs on these examples"
   ]
  },
  {
   "cell_type": "markdown",
   "id": "e234f041",
   "metadata": {},
   "source": [
    "This should be a contradiction\n",
    "\n",
    "Why is it a hard task?\n",
    "\n",
    "Lexical overlap is low and the model may struggle to tie \"apple\" to \"fruit\" or to detect that \"no one\" contradicts \"a woman\""
   ]
  },
  {
   "cell_type": "code",
   "execution_count": 10,
   "id": "ec4cbd62",
   "metadata": {},
   "outputs": [
    {
     "data": {
      "text/plain": [
       "(tensor([0], device='cuda:0'), ['entailment'])"
      ]
     },
     "execution_count": 10,
     "metadata": {},
     "output_type": "execute_result"
    }
   ],
   "source": [
    "premise = \"A woman is eating an apple\"\n",
    "hypothesis = \"No one is eating fruit\"\n",
    "checkpoint_model.predict([premise], [hypothesis])"
   ]
  },
  {
   "cell_type": "markdown",
   "id": "51c8c085",
   "metadata": {},
   "source": [
    "This should be a contradiction\n",
    "\n",
    "Why is it hard task?\n",
    "\n",
    "Both sentences involve a baby, but it takes commonsense to realize that babies who cry in cribs probably aren’t talking."
   ]
  },
  {
   "cell_type": "code",
   "execution_count": 11,
   "id": "33e8e5fb",
   "metadata": {},
   "outputs": [
    {
     "data": {
      "text/plain": [
       "(tensor([2], device='cuda:0'), ['contradiction'])"
      ]
     },
     "execution_count": 11,
     "metadata": {},
     "output_type": "execute_result"
    }
   ],
   "source": [
    "premise = \"A baby is crying in a crib\"\n",
    "hypothesis = \"The baby is talking to its parents\"\n",
    "checkpoint_model.predict([premise], [hypothesis])"
   ]
  },
  {
   "cell_type": "markdown",
   "id": "80eb0f45",
   "metadata": {},
   "source": [
    "This should be a contradiction\n",
    "\n",
    "Why is it hard task?\n",
    "\n",
    "The model must track event order and realize \"was eating\" implies the action was still happening."
   ]
  },
  {
   "cell_type": "code",
   "execution_count": 12,
   "id": "53d9e21a",
   "metadata": {},
   "outputs": [
    {
     "data": {
      "text/plain": [
       "(tensor([1], device='cuda:0'), ['neutral'])"
      ]
     },
     "execution_count": 12,
     "metadata": {},
     "output_type": "execute_result"
    }
   ],
   "source": [
    "premise = \"The man was eating dinner when the phone rang\"\n",
    "hypothesis = \"The man had already finished eating\"\n",
    "checkpoint_model.predict([premise], [hypothesis])"
   ]
  },
  {
   "cell_type": "markdown",
   "id": "5376f5f2",
   "metadata": {},
   "source": [
    "This should be neutral\n",
    "\n",
    "Why is it hard task?\n",
    "\n",
    "The word \"children/kids\" appears, but the activities are unrelated and shouldn’t lead to entailment or contradiction."
   ]
  },
  {
   "cell_type": "code",
   "execution_count": 13,
   "id": "fefe221e",
   "metadata": {},
   "outputs": [
    {
     "data": {
      "text/plain": [
       "(tensor([0], device='cuda:0'), ['entailment'])"
      ]
     },
     "execution_count": 13,
     "metadata": {},
     "output_type": "execute_result"
    }
   ],
   "source": [
    "premise = \"Children are playing in a park\"\n",
    "hypothesis = \"Kids are studying at school\"\n",
    "checkpoint_model.predict([premise], [hypothesis])"
   ]
  },
  {
   "cell_type": "markdown",
   "id": "c8608e98",
   "metadata": {},
   "source": [
    "This should be a entailment\n",
    "\n",
    "Why is it hard task?\n",
    "\n",
    "It tests the model's ability to recognize paraphrasing and soft entailment across different phrasings."
   ]
  },
  {
   "cell_type": "code",
   "execution_count": 14,
   "id": "8428b773",
   "metadata": {},
   "outputs": [
    {
     "data": {
      "text/plain": [
       "(tensor([0], device='cuda:0'), ['entailment'])"
      ]
     },
     "execution_count": 14,
     "metadata": {},
     "output_type": "execute_result"
    }
   ],
   "source": [
    "premise = \"A man is giving a presentation to a small audience\"\n",
    "hypothesis = \"A man is speaking in front of a group\"\n",
    "checkpoint_model.predict([premise], [hypothesis])"
   ]
  }
 ],
 "metadata": {
  "kernelspec": {
   "display_name": "ATCS",
   "language": "python",
   "name": "python3"
  },
  "language_info": {
   "codemirror_mode": {
    "name": "ipython",
    "version": 3
   },
   "file_extension": ".py",
   "mimetype": "text/x-python",
   "name": "python",
   "nbconvert_exporter": "python",
   "pygments_lexer": "ipython3",
   "version": "3.13.2"
  }
 },
 "nbformat": 4,
 "nbformat_minor": 5
}
