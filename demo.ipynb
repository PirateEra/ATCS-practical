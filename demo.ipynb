{
 "cells": [
  {
   "cell_type": "markdown",
   "id": "83a66e55",
   "metadata": {},
   "source": [
    "# Load a checkpoint\n",
    "##### Model choices are uni-lstm, bi-lstm, bi-max-lstm, mean"
   ]
  },
  {
   "cell_type": "code",
   "execution_count": 25,
   "id": "e773413c",
   "metadata": {},
   "outputs": [],
   "source": [
    "import argparse\n",
    "from models import SNLIModel\n",
    "from train import parse_args\n",
    "import torch"
   ]
  },
  {
   "cell_type": "code",
   "execution_count": 26,
   "id": "b67a7324",
   "metadata": {},
   "outputs": [],
   "source": [
    "checkpoint_path = \"modelsaves/bi_max_lstm_model.pth\"\n",
    "modeltype = 'bi-max-lstm' # Make sure this matches the checkpoint you are loading in!\n",
    "# choices are uni-lstm, bi-lstm, bi-max-lstm, mean"
   ]
  },
  {
   "cell_type": "code",
   "execution_count": 27,
   "id": "1cabe843",
   "metadata": {},
   "outputs": [],
   "source": [
    "params = parse_args() # The default parameters (do not worry, this is just for initialization, it wont matter since we are evaluating only not training)\n",
    "params.checkpoint_path = checkpoint_path\n",
    "params.encoder_model = modeltype"
   ]
  },
  {
   "cell_type": "code",
   "execution_count": 28,
   "id": "52a33681",
   "metadata": {},
   "outputs": [
    {
     "name": "stdout",
     "output_type": "stream",
     "text": [
      "dict_keys(['model_state_dict', 'optimizer_state_dict', 'epoch', 'dev_accuracy'])\n",
      "Model: bi-max-lstm\n",
      "Epoch: 5\n",
      "Dev accuracy; 0.8474903702735901\n"
     ]
    }
   ],
   "source": [
    "checkpoint_info = torch.load(checkpoint_path)\n",
    "print(checkpoint_info.keys())\n",
    "print(f\"Model: {modeltype}\")\n",
    "print(f\"Epoch: {checkpoint_info['epoch']}\")\n",
    "print(f\"Dev accuracy; {checkpoint_info['dev_accuracy'].item()}\")"
   ]
  },
  {
   "cell_type": "code",
   "execution_count": 5,
   "id": "b230d664",
   "metadata": {},
   "outputs": [
    {
     "name": "stdout",
     "output_type": "stream",
     "text": [
      "Setting up all imports and downloads\n"
     ]
    },
    {
     "name": "stderr",
     "output_type": "stream",
     "text": [
      "[nltk_data] Downloading package punkt to /home/david/nltk_data...\n",
      "[nltk_data]   Package punkt is already up-to-date!\n",
      "[nltk_data] Downloading package punkt_tab to /home/david/nltk_data...\n",
      "[nltk_data]   Package punkt_tab is already up-to-date!\n"
     ]
    },
    {
     "name": "stdout",
     "output_type": "stream",
     "text": [
      "Preprocessing the data\n",
      "Setting up the classifier (and the encoder within)\n",
      "Setting up the optimizer and loss function\n",
      "Checkpoint loaded from modelsaves/mean_model.pth\n"
     ]
    }
   ],
   "source": [
    "checkpoint_model = SNLIModel(params)"
   ]
  },
  {
   "cell_type": "markdown",
   "id": "dce02933",
   "metadata": {},
   "source": [
    "# Example on how to predict using the checkpoint model"
   ]
  },
  {
   "cell_type": "code",
   "execution_count": 6,
   "id": "e1832c7d",
   "metadata": {},
   "outputs": [
    {
     "data": {
      "text/plain": [
       "(tensor([0], device='cuda:0'), ['entailment'])"
      ]
     },
     "execution_count": 6,
     "metadata": {},
     "output_type": "execute_result"
    }
   ],
   "source": [
    "premise = \"Two men sitting in the sun\"\n",
    "hypothesis = \"Nobody is sitting in the shade\"\n",
    "checkpoint_model.predict([premise], [hypothesis])"
   ]
  },
  {
   "cell_type": "code",
   "execution_count": 7,
   "id": "8c6f093b",
   "metadata": {},
   "outputs": [
    {
     "data": {
      "text/plain": [
       "(tensor([2], device='cuda:0'), ['contradiction'])"
      ]
     },
     "execution_count": 7,
     "metadata": {},
     "output_type": "execute_result"
    }
   ],
   "source": [
    "premise = \"A man is walking a dog\"\n",
    "hypothesis = \"No cat is outside\"\n",
    "checkpoint_model.predict([premise], [hypothesis])"
   ]
  },
  {
   "cell_type": "markdown",
   "id": "ebc36363",
   "metadata": {},
   "source": [
    "# Example on evaluating a dataset and obtaining an accuracy"
   ]
  },
  {
   "cell_type": "code",
   "execution_count": 8,
   "id": "00c0bb55",
   "metadata": {},
   "outputs": [],
   "source": [
    "dev_accuracy = checkpoint_model.evaluate_accuracy(checkpoint_model.dev_data).item()\n",
    "test_accuracy = checkpoint_model.evaluate_accuracy(checkpoint_model.test_data).item()"
   ]
  },
  {
   "cell_type": "code",
   "execution_count": 9,
   "id": "18279cb7",
   "metadata": {},
   "outputs": [
    {
     "name": "stdout",
     "output_type": "stream",
     "text": [
      "The dev accuracy is 0.64936 and the test accuracy is 0.64912\n"
     ]
    }
   ],
   "source": [
    "print(f\"The dev accuracy is {round(dev_accuracy, 5)} and the test accuracy is {round(test_accuracy, 5)}\")"
   ]
  }
 ],
 "metadata": {
  "kernelspec": {
   "display_name": "ATCS",
   "language": "python",
   "name": "python3"
  },
  "language_info": {
   "codemirror_mode": {
    "name": "ipython",
    "version": 3
   },
   "file_extension": ".py",
   "mimetype": "text/x-python",
   "name": "python",
   "nbconvert_exporter": "python",
   "pygments_lexer": "ipython3",
   "version": "3.13.2"
  }
 },
 "nbformat": 4,
 "nbformat_minor": 5
}
